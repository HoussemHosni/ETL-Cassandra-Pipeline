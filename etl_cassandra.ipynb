{
 "cells": [
  {
   "cell_type": "markdown",
   "metadata": {
    "editable": true
   },
   "source": [
    "# Part I. ETL Pipeline for Pre-Processing the Files"
   ]
  },
  {
   "cell_type": "markdown",
   "metadata": {
    "editable": true
   },
   "source": [
    "#### Import Python packages "
   ]
  },
  {
   "cell_type": "code",
   "execution_count": 50,
   "metadata": {
    "editable": true
   },
   "outputs": [],
   "source": [
    "# Import Python packages \n",
    "import pandas as pd\n",
    "import cassandra\n",
    "import re\n",
    "import os\n",
    "import glob\n",
    "import numpy as np\n",
    "import json\n",
    "import csv"
   ]
  },
  {
   "cell_type": "markdown",
   "metadata": {
    "editable": true
   },
   "source": [
    "#### Creating list of filepaths to process original event csv data files"
   ]
  },
  {
   "cell_type": "code",
   "execution_count": 51,
   "metadata": {
    "editable": true
   },
   "outputs": [
    {
     "name": "stdout",
     "output_type": "stream",
     "text": [
      "/home/workspace\n",
      "/home/workspace/event_data\n",
      "30\n",
      "['/home/workspace/event_data/2018-11-01-events.csv', '/home/workspace/event_data/2018-11-02-events.csv', '/home/workspace/event_data/2018-11-03-events.csv', '/home/workspace/event_data/2018-11-04-events.csv', '/home/workspace/event_data/2018-11-05-events.csv', '/home/workspace/event_data/2018-11-06-events.csv', '/home/workspace/event_data/2018-11-07-events.csv', '/home/workspace/event_data/2018-11-08-events.csv', '/home/workspace/event_data/2018-11-09-events.csv', '/home/workspace/event_data/2018-11-10-events.csv', '/home/workspace/event_data/2018-11-11-events.csv', '/home/workspace/event_data/2018-11-12-events.csv', '/home/workspace/event_data/2018-11-13-events.csv', '/home/workspace/event_data/2018-11-14-events.csv', '/home/workspace/event_data/2018-11-15-events.csv', '/home/workspace/event_data/2018-11-16-events.csv', '/home/workspace/event_data/2018-11-17-events.csv', '/home/workspace/event_data/2018-11-18-events.csv', '/home/workspace/event_data/2018-11-19-events.csv', '/home/workspace/event_data/2018-11-20-events.csv', '/home/workspace/event_data/2018-11-21-events.csv', '/home/workspace/event_data/2018-11-22-events.csv', '/home/workspace/event_data/2018-11-23-events.csv', '/home/workspace/event_data/2018-11-24-events.csv', '/home/workspace/event_data/2018-11-25-events.csv', '/home/workspace/event_data/2018-11-26-events.csv', '/home/workspace/event_data/2018-11-27-events.csv', '/home/workspace/event_data/2018-11-28-events.csv', '/home/workspace/event_data/2018-11-29-events.csv', '/home/workspace/event_data/2018-11-30-events.csv']\n"
     ]
    }
   ],
   "source": [
    "# checking current working directory\n",
    "print(os.getcwd())\n",
    "\n",
    "# Get current folder and subfolder event data\n",
    "filepath = os.getcwd() + '/event_data'\n",
    "print(filepath)\n",
    "# For loop to create a list of files and collect each filepath\n",
    "file_path_list = []\n",
    "for root, dirs, files in os.walk(filepath):\n",
    "    files = glob.glob(os.path.join(root,'*events.csv'))\n",
    "    for f in files:\n",
    "        file_path_list.append(os.path.abspath(f))\n",
    "# Printing The files paths contained in file_path_list\n",
    "file_path_list.sort()\n",
    "print(len(file_path_list))\n",
    "print(file_path_list)"
   ]
  },
  {
   "cell_type": "markdown",
   "metadata": {
    "editable": true
   },
   "source": [
    "#### Processing the files to create the data file csv that will be used for Apache Casssandra tables"
   ]
  },
  {
   "cell_type": "code",
   "execution_count": 52,
   "metadata": {
    "editable": true
   },
   "outputs": [],
   "source": [
    "# initiating an empty list of rows that will be generated from each file\n",
    "full_data_rows_list = [] \n",
    "    \n",
    "# for every filepath in the file path list \n",
    "for f in file_path_list:\n",
    "\n",
    "# reading csv file \n",
    "    with open(f, 'r', encoding = 'utf8', newline='') as csvfile: \n",
    "        # creating a csv reader object \n",
    "        csvreader = csv.reader(csvfile) \n",
    "        next(csvreader)\n",
    "        \n",
    " # extracting each data row one by one and append it        \n",
    "        for line in csvreader:\n",
    "            full_data_rows_list.append(line) \n",
    "            \n",
    "# creating a smaller event data csv file called 'event_datafile_new' that will be used to insert data into the \\\n",
    "# Apache Cassandra tables\n",
    "csv.register_dialect('myDialect', quoting=csv.QUOTE_ALL, skipinitialspace=True)\n",
    "\n",
    "with open('event_datafile_new.csv', 'w', encoding = 'utf8', newline='') as f:\n",
    "    writer = csv.writer(f, dialect='myDialect')\n",
    "    writer.writerow(['artist','firstName','gender','itemInSession','lastName','length',\\\n",
    "                'level','location','sessionId','song','userId'])\n",
    "    for row in full_data_rows_list:\n",
    "        if (row[0] == ''):\n",
    "            continue\n",
    "        writer.writerow((row[0], row[2], row[3], row[4], row[5], row[6], row[7], row[8], row[12], row[13], row[16]))\n"
   ]
  },
  {
   "cell_type": "code",
   "execution_count": 53,
   "metadata": {
    "editable": true
   },
   "outputs": [
    {
     "name": "stdout",
     "output_type": "stream",
     "text": [
      "6821\n"
     ]
    }
   ],
   "source": [
    "# check the number of rows in 'event_datafile_new.csv'\n",
    "with open('event_datafile_new.csv', 'r', encoding = 'utf8') as f:\n",
    "    print(sum(1 for line in f))"
   ]
  },
  {
   "cell_type": "code",
   "execution_count": 54,
   "metadata": {
    "editable": true
   },
   "outputs": [
    {
     "data": {
      "text/html": [
       "<div>\n",
       "<style scoped>\n",
       "    .dataframe tbody tr th:only-of-type {\n",
       "        vertical-align: middle;\n",
       "    }\n",
       "\n",
       "    .dataframe tbody tr th {\n",
       "        vertical-align: top;\n",
       "    }\n",
       "\n",
       "    .dataframe thead th {\n",
       "        text-align: right;\n",
       "    }\n",
       "</style>\n",
       "<table border=\"1\" class=\"dataframe\">\n",
       "  <thead>\n",
       "    <tr style=\"text-align: right;\">\n",
       "      <th></th>\n",
       "      <th>artist</th>\n",
       "      <th>firstName</th>\n",
       "      <th>gender</th>\n",
       "      <th>itemInSession</th>\n",
       "      <th>lastName</th>\n",
       "      <th>length</th>\n",
       "      <th>level</th>\n",
       "      <th>location</th>\n",
       "      <th>sessionId</th>\n",
       "      <th>song</th>\n",
       "      <th>userId</th>\n",
       "    </tr>\n",
       "  </thead>\n",
       "  <tbody>\n",
       "    <tr>\n",
       "      <th>0</th>\n",
       "      <td>Des'ree</td>\n",
       "      <td>Kaylee</td>\n",
       "      <td>F</td>\n",
       "      <td>1</td>\n",
       "      <td>Summers</td>\n",
       "      <td>246.30812</td>\n",
       "      <td>free</td>\n",
       "      <td>Phoenix-Mesa-Scottsdale, AZ</td>\n",
       "      <td>139</td>\n",
       "      <td>You Gotta Be</td>\n",
       "      <td>8</td>\n",
       "    </tr>\n",
       "    <tr>\n",
       "      <th>1</th>\n",
       "      <td>Mr Oizo</td>\n",
       "      <td>Kaylee</td>\n",
       "      <td>F</td>\n",
       "      <td>3</td>\n",
       "      <td>Summers</td>\n",
       "      <td>144.03873</td>\n",
       "      <td>free</td>\n",
       "      <td>Phoenix-Mesa-Scottsdale, AZ</td>\n",
       "      <td>139</td>\n",
       "      <td>Flat 55</td>\n",
       "      <td>8</td>\n",
       "    </tr>\n",
       "    <tr>\n",
       "      <th>2</th>\n",
       "      <td>Tamba Trio</td>\n",
       "      <td>Kaylee</td>\n",
       "      <td>F</td>\n",
       "      <td>4</td>\n",
       "      <td>Summers</td>\n",
       "      <td>177.18812</td>\n",
       "      <td>free</td>\n",
       "      <td>Phoenix-Mesa-Scottsdale, AZ</td>\n",
       "      <td>139</td>\n",
       "      <td>Quem Quiser Encontrar O Amor</td>\n",
       "      <td>8</td>\n",
       "    </tr>\n",
       "    <tr>\n",
       "      <th>3</th>\n",
       "      <td>The Mars Volta</td>\n",
       "      <td>Kaylee</td>\n",
       "      <td>F</td>\n",
       "      <td>5</td>\n",
       "      <td>Summers</td>\n",
       "      <td>380.42077</td>\n",
       "      <td>free</td>\n",
       "      <td>Phoenix-Mesa-Scottsdale, AZ</td>\n",
       "      <td>139</td>\n",
       "      <td>Eriatarka</td>\n",
       "      <td>8</td>\n",
       "    </tr>\n",
       "    <tr>\n",
       "      <th>4</th>\n",
       "      <td>Infected Mushroom</td>\n",
       "      <td>Kaylee</td>\n",
       "      <td>F</td>\n",
       "      <td>6</td>\n",
       "      <td>Summers</td>\n",
       "      <td>440.26730</td>\n",
       "      <td>free</td>\n",
       "      <td>Phoenix-Mesa-Scottsdale, AZ</td>\n",
       "      <td>139</td>\n",
       "      <td>Becoming Insane</td>\n",
       "      <td>8</td>\n",
       "    </tr>\n",
       "    <tr>\n",
       "      <th>5</th>\n",
       "      <td>Blue October / Imogen Heap</td>\n",
       "      <td>Kaylee</td>\n",
       "      <td>F</td>\n",
       "      <td>7</td>\n",
       "      <td>Summers</td>\n",
       "      <td>241.39710</td>\n",
       "      <td>free</td>\n",
       "      <td>Phoenix-Mesa-Scottsdale, AZ</td>\n",
       "      <td>139</td>\n",
       "      <td>Congratulations</td>\n",
       "      <td>8</td>\n",
       "    </tr>\n",
       "    <tr>\n",
       "      <th>6</th>\n",
       "      <td>Girl Talk</td>\n",
       "      <td>Kaylee</td>\n",
       "      <td>F</td>\n",
       "      <td>8</td>\n",
       "      <td>Summers</td>\n",
       "      <td>160.15628</td>\n",
       "      <td>free</td>\n",
       "      <td>Phoenix-Mesa-Scottsdale, AZ</td>\n",
       "      <td>139</td>\n",
       "      <td>Once again</td>\n",
       "      <td>8</td>\n",
       "    </tr>\n",
       "    <tr>\n",
       "      <th>7</th>\n",
       "      <td>Black Eyed Peas</td>\n",
       "      <td>Sylvie</td>\n",
       "      <td>F</td>\n",
       "      <td>0</td>\n",
       "      <td>Cruz</td>\n",
       "      <td>214.93506</td>\n",
       "      <td>free</td>\n",
       "      <td>Washington-Arlington-Alexandria, DC-VA-MD-WV</td>\n",
       "      <td>9</td>\n",
       "      <td>Pump It</td>\n",
       "      <td>10</td>\n",
       "    </tr>\n",
       "    <tr>\n",
       "      <th>8</th>\n",
       "      <td>Fall Out Boy</td>\n",
       "      <td>Ryan</td>\n",
       "      <td>M</td>\n",
       "      <td>1</td>\n",
       "      <td>Smith</td>\n",
       "      <td>200.72444</td>\n",
       "      <td>free</td>\n",
       "      <td>San Jose-Sunnyvale-Santa Clara, CA</td>\n",
       "      <td>169</td>\n",
       "      <td>Nobody Puts Baby In The Corner</td>\n",
       "      <td>26</td>\n",
       "    </tr>\n",
       "    <tr>\n",
       "      <th>9</th>\n",
       "      <td>M.I.A.</td>\n",
       "      <td>Ryan</td>\n",
       "      <td>M</td>\n",
       "      <td>2</td>\n",
       "      <td>Smith</td>\n",
       "      <td>233.71710</td>\n",
       "      <td>free</td>\n",
       "      <td>San Jose-Sunnyvale-Santa Clara, CA</td>\n",
       "      <td>169</td>\n",
       "      <td>Mango Pickle Down River (With The Wilcannia Mob)</td>\n",
       "      <td>26</td>\n",
       "    </tr>\n",
       "    <tr>\n",
       "      <th>10</th>\n",
       "      <td>Survivor</td>\n",
       "      <td>Jayden</td>\n",
       "      <td>M</td>\n",
       "      <td>0</td>\n",
       "      <td>Fox</td>\n",
       "      <td>245.36771</td>\n",
       "      <td>free</td>\n",
       "      <td>New Orleans-Metairie, LA</td>\n",
       "      <td>100</td>\n",
       "      <td>Eye Of The Tiger</td>\n",
       "      <td>101</td>\n",
       "    </tr>\n",
       "    <tr>\n",
       "      <th>11</th>\n",
       "      <td>N.E.R.D. FEATURING MALICE</td>\n",
       "      <td>Jayden</td>\n",
       "      <td>M</td>\n",
       "      <td>0</td>\n",
       "      <td>Fox</td>\n",
       "      <td>288.99220</td>\n",
       "      <td>free</td>\n",
       "      <td>New Orleans-Metairie, LA</td>\n",
       "      <td>184</td>\n",
       "      <td>Am I High (Feat. Malice)</td>\n",
       "      <td>101</td>\n",
       "    </tr>\n",
       "    <tr>\n",
       "      <th>12</th>\n",
       "      <td>Death Cab for Cutie</td>\n",
       "      <td>Stefany</td>\n",
       "      <td>F</td>\n",
       "      <td>1</td>\n",
       "      <td>White</td>\n",
       "      <td>216.42404</td>\n",
       "      <td>free</td>\n",
       "      <td>Lubbock, TX</td>\n",
       "      <td>82</td>\n",
       "      <td>A Lack Of Color (Album Version)</td>\n",
       "      <td>83</td>\n",
       "    </tr>\n",
       "    <tr>\n",
       "      <th>13</th>\n",
       "      <td>Tracy Gang Pussy</td>\n",
       "      <td>Stefany</td>\n",
       "      <td>F</td>\n",
       "      <td>2</td>\n",
       "      <td>White</td>\n",
       "      <td>221.33506</td>\n",
       "      <td>free</td>\n",
       "      <td>Lubbock, TX</td>\n",
       "      <td>82</td>\n",
       "      <td>I Have A Wish</td>\n",
       "      <td>83</td>\n",
       "    </tr>\n",
       "    <tr>\n",
       "      <th>14</th>\n",
       "      <td>Skillet</td>\n",
       "      <td>Kevin</td>\n",
       "      <td>M</td>\n",
       "      <td>0</td>\n",
       "      <td>Arellano</td>\n",
       "      <td>178.02404</td>\n",
       "      <td>free</td>\n",
       "      <td>Harrisburg-Carlisle, PA</td>\n",
       "      <td>153</td>\n",
       "      <td>Monster (Album Version)</td>\n",
       "      <td>66</td>\n",
       "    </tr>\n",
       "    <tr>\n",
       "      <th>15</th>\n",
       "      <td>Dance Gavin Dance</td>\n",
       "      <td>Marina</td>\n",
       "      <td>F</td>\n",
       "      <td>0</td>\n",
       "      <td>Sutton</td>\n",
       "      <td>218.46159</td>\n",
       "      <td>free</td>\n",
       "      <td>Salinas, CA</td>\n",
       "      <td>47</td>\n",
       "      <td>Uneasy Hearts Weigh The Most</td>\n",
       "      <td>48</td>\n",
       "    </tr>\n",
       "  </tbody>\n",
       "</table>\n",
       "</div>"
      ],
      "text/plain": [
       "                        artist firstName gender  itemInSession  lastName  \\\n",
       "0                      Des'ree    Kaylee      F              1   Summers   \n",
       "1                      Mr Oizo    Kaylee      F              3   Summers   \n",
       "2                   Tamba Trio    Kaylee      F              4   Summers   \n",
       "3               The Mars Volta    Kaylee      F              5   Summers   \n",
       "4            Infected Mushroom    Kaylee      F              6   Summers   \n",
       "5   Blue October / Imogen Heap    Kaylee      F              7   Summers   \n",
       "6                    Girl Talk    Kaylee      F              8   Summers   \n",
       "7              Black Eyed Peas    Sylvie      F              0      Cruz   \n",
       "8                 Fall Out Boy      Ryan      M              1     Smith   \n",
       "9                       M.I.A.      Ryan      M              2     Smith   \n",
       "10                    Survivor    Jayden      M              0       Fox   \n",
       "11   N.E.R.D. FEATURING MALICE    Jayden      M              0       Fox   \n",
       "12         Death Cab for Cutie   Stefany      F              1     White   \n",
       "13            Tracy Gang Pussy   Stefany      F              2     White   \n",
       "14                     Skillet     Kevin      M              0  Arellano   \n",
       "15           Dance Gavin Dance    Marina      F              0    Sutton   \n",
       "\n",
       "       length level                                      location  sessionId  \\\n",
       "0   246.30812  free                   Phoenix-Mesa-Scottsdale, AZ        139   \n",
       "1   144.03873  free                   Phoenix-Mesa-Scottsdale, AZ        139   \n",
       "2   177.18812  free                   Phoenix-Mesa-Scottsdale, AZ        139   \n",
       "3   380.42077  free                   Phoenix-Mesa-Scottsdale, AZ        139   \n",
       "4   440.26730  free                   Phoenix-Mesa-Scottsdale, AZ        139   \n",
       "5   241.39710  free                   Phoenix-Mesa-Scottsdale, AZ        139   \n",
       "6   160.15628  free                   Phoenix-Mesa-Scottsdale, AZ        139   \n",
       "7   214.93506  free  Washington-Arlington-Alexandria, DC-VA-MD-WV          9   \n",
       "8   200.72444  free            San Jose-Sunnyvale-Santa Clara, CA        169   \n",
       "9   233.71710  free            San Jose-Sunnyvale-Santa Clara, CA        169   \n",
       "10  245.36771  free                      New Orleans-Metairie, LA        100   \n",
       "11  288.99220  free                      New Orleans-Metairie, LA        184   \n",
       "12  216.42404  free                                   Lubbock, TX         82   \n",
       "13  221.33506  free                                   Lubbock, TX         82   \n",
       "14  178.02404  free                       Harrisburg-Carlisle, PA        153   \n",
       "15  218.46159  free                                   Salinas, CA         47   \n",
       "\n",
       "                                                song  userId  \n",
       "0                                       You Gotta Be       8  \n",
       "1                                            Flat 55       8  \n",
       "2                       Quem Quiser Encontrar O Amor       8  \n",
       "3                                          Eriatarka       8  \n",
       "4                                    Becoming Insane       8  \n",
       "5                                    Congratulations       8  \n",
       "6                                         Once again       8  \n",
       "7                                            Pump It      10  \n",
       "8                     Nobody Puts Baby In The Corner      26  \n",
       "9   Mango Pickle Down River (With The Wilcannia Mob)      26  \n",
       "10                                  Eye Of The Tiger     101  \n",
       "11                          Am I High (Feat. Malice)     101  \n",
       "12                   A Lack Of Color (Album Version)      83  \n",
       "13                                     I Have A Wish      83  \n",
       "14                           Monster (Album Version)      66  \n",
       "15                      Uneasy Hearts Weigh The Most      48  "
      ]
     },
     "execution_count": 54,
     "metadata": {},
     "output_type": "execute_result"
    }
   ],
   "source": [
    "# Load 'event_datafile_new.csv' into a pandas dataframe to show some details\n",
    "df = pd.read_csv('event_datafile_new.csv')\n",
    "df.head(n = 16)"
   ]
  },
  {
   "cell_type": "code",
   "execution_count": 55,
   "metadata": {
    "editable": true
   },
   "outputs": [
    {
     "data": {
      "text/plain": [
       "(6820, 11)"
      ]
     },
     "execution_count": 55,
     "metadata": {},
     "output_type": "execute_result"
    }
   ],
   "source": [
    "# shape of data (number of rows and columns)\n",
    "df.shape"
   ]
  },
  {
   "cell_type": "code",
   "execution_count": 56,
   "metadata": {
    "editable": true
   },
   "outputs": [
    {
     "name": "stdout",
     "output_type": "stream",
     "text": [
      "        artist firstName gender  itemInSession  lastName    length level  \\\n",
      "964  Faithless       Ava      F              4  Robinson  495.3073  free   \n",
      "\n",
      "                  location  sessionId                             song  userId  \n",
      "964  New Haven-Milford, CT        338  Music Matters (Mark Knight Dub)      50  \n"
     ]
    }
   ],
   "source": [
    "# Try to simulate The first Query using pandas dataframe \n",
    "print(df[ ((df['sessionId']==338) & (df['itemInSession']==4))]) "
   ]
  },
  {
   "cell_type": "code",
   "execution_count": 57,
   "metadata": {
    "editable": true
   },
   "outputs": [
    {
     "name": "stdout",
     "output_type": "stream",
     "text": [
      "                artist firstName gender  itemInSession lastName     length  \\\n",
      "151   Down To The Bone    Sylvie      F              0     Cruz  333.76608   \n",
      "152       Three Drives    Sylvie      F              1     Cruz  411.63710   \n",
      "153  Sebastien Tellier    Sylvie      F              2     Cruz  377.73016   \n",
      "154      Lonnie Gordon    Sylvie      F              3     Cruz  181.21098   \n",
      "\n",
      "    level                                      location  sessionId  \\\n",
      "151  free  Washington-Arlington-Alexandria, DC-VA-MD-WV        182   \n",
      "152  free  Washington-Arlington-Alexandria, DC-VA-MD-WV        182   \n",
      "153  free  Washington-Arlington-Alexandria, DC-VA-MD-WV        182   \n",
      "154  free  Washington-Arlington-Alexandria, DC-VA-MD-WV        182   \n",
      "\n",
      "                                                  song  userId  \n",
      "151                                 Keep On Keepin' On      10  \n",
      "152                                        Greece 2000      10  \n",
      "153                                          Kilometer      10  \n",
      "154  Catch You Baby (Steve Pitron & Max Sanna Radio...      10  \n"
     ]
    }
   ],
   "source": [
    "# Try to simulate The Second Query using pandas dataframe \n",
    "print(df[ ((df['userId']==10) & (df['sessionId']==182))]) "
   ]
  },
  {
   "cell_type": "code",
   "execution_count": 58,
   "metadata": {
    "editable": true
   },
   "outputs": [
    {
     "name": "stdout",
     "output_type": "stream",
     "text": [
      "              artist   firstName gender  itemInSession lastName     length  \\\n",
      "219   The Black Keys        Sara      F             31  Johnson  196.91057   \n",
      "2442  The Black Keys  Jacqueline      F             50    Lynch  196.91057   \n",
      "2646  The Black Keys       Tegan      F             25   Levine  196.91057   \n",
      "\n",
      "     level                           location  sessionId  \\\n",
      "219   paid                  Winston-Salem, NC        152   \n",
      "2442  paid  Atlanta-Sandy Springs-Roswell, GA        559   \n",
      "2646  paid        Portland-South Portland, ME        611   \n",
      "\n",
      "                           song  userId  \n",
      "219   All Hands Against His Own      95  \n",
      "2442  All Hands Against His Own      29  \n",
      "2646  All Hands Against His Own      80  \n"
     ]
    }
   ],
   "source": [
    "# Try to simulate The Third Query using pandas dataframe \n",
    "print(df[df['song']=='All Hands Against His Own'])"
   ]
  },
  {
   "cell_type": "markdown",
   "metadata": {
    "editable": true
   },
   "source": [
    "# Part II. Apache Cassandra : Loading the data into The corresponding Tables\n",
    "\n",
    "## Next we work with The generated CSV file titled <font color=red>event_datafile_new.csv</font>.  \n",
    "## The event_datafile_new.csv contains the following columns: \n",
    "- artist \n",
    "- firstName of user\n",
    "- gender of user\n",
    "- item number in session\n",
    "- last name of user\n",
    "- length of the song\n",
    "- level (paid or free song)\n",
    "- location of the user\n",
    "- sessionId\n",
    "- song title\n",
    "- userId\n",
    "\n",
    "The image below is a screenshot of what the denormalized data should appear like in the <font color=red>**event_datafile_new.csv**</font> after the code above is run:<br>\n",
    "\n",
    "<img src=\"images/image_event_datafile_new.jpg\">"
   ]
  },
  {
   "cell_type": "markdown",
   "metadata": {
    "editable": true
   },
   "source": [
    "#### Creating a Cassandra Cluster Instance and Session"
   ]
  },
  {
   "cell_type": "code",
   "execution_count": 59,
   "metadata": {
    "editable": true
   },
   "outputs": [],
   "source": [
    "from cassandra.cluster import Cluster\n",
    "try:\n",
    "    # Set up a cassandra cluster\n",
    "    cluster = Cluster(['127.0.0.1'])\n",
    "    # Establish connection to the cluster and create session\n",
    "    session = cluster.connect()\n",
    "except Exception as e:\n",
    "    print(e)"
   ]
  },
  {
   "cell_type": "markdown",
   "metadata": {
    "editable": true
   },
   "source": [
    "#### Create Keyspace"
   ]
  },
  {
   "cell_type": "code",
   "execution_count": 60,
   "metadata": {
    "editable": true
   },
   "outputs": [],
   "source": [
    "CREATE_KEYSPACE_QUERY = \"\"\"\n",
    "        CREATE KEYSPACE IF NOT EXISTS sparkify \n",
    "        WITH REPLICATION = {\n",
    "            'class':'SimpleStrategy', \n",
    "            'replication_factor': 1\n",
    "            }\n",
    "        \"\"\"\n",
    "\n",
    "try:\n",
    "    session.execute(CREATE_KEYSPACE_QUERY)\n",
    "except Exception as e:\n",
    "    print(e)"
   ]
  },
  {
   "cell_type": "markdown",
   "metadata": {
    "editable": true
   },
   "source": [
    "#### Set Keyspace"
   ]
  },
  {
   "cell_type": "code",
   "execution_count": 61,
   "metadata": {
    "editable": true
   },
   "outputs": [],
   "source": [
    "try:\n",
    "    session.set_keyspace('sparkify')\n",
    "except Exception as e:\n",
    "    print(e)"
   ]
  },
  {
   "cell_type": "markdown",
   "metadata": {
    "editable": true
   },
   "source": [
    "### First Query : SELECT artist, length, song FROM music_library WHERE sessionid = 338 AND iteminsession = 4\n",
    "\n",
    "#### ✱ Interpretation : \n",
    "- This query tries to get songs details such as name, artist and length during a specific session \n",
    "\n",
    "#### ✱ Expected Output :\n",
    "- Artist's Name, length of the Song and Song Name\n",
    "\n",
    "#### ✱ Primary Key :\n",
    "- (sessionid, iteminsession) as a Composite Partition Key\n",
    "\n",
    "#### ✱ Column names :\n",
    "- artist, iteminsession, length, sessionid, song"
   ]
  },
  {
   "cell_type": "markdown",
   "metadata": {
    "editable": true
   },
   "source": [
    "#### In the next cell We Will create the music_library_by_sessions table corresponding to the First Query"
   ]
  },
  {
   "cell_type": "code",
   "execution_count": 62,
   "metadata": {
    "editable": true
   },
   "outputs": [],
   "source": [
    "create_table1 = \"\"\"CREATE TABLE IF NOT EXISTS music_library_by_sessions (\n",
    "        artist text, \n",
    "        iteminsession int, \n",
    "        length double, \n",
    "        sessionid int, \n",
    "        song text,\n",
    "        \n",
    "        PRIMARY KEY (sessionid, iteminsession)\n",
    "        )\"\"\"\n",
    "try:\n",
    "    session.execute(create_table1)\n",
    "except Exception as e:\n",
    "    print(e)"
   ]
  },
  {
   "cell_type": "markdown",
   "metadata": {
    "editable": true
   },
   "source": [
    "#### In the next cell we parse the 'event_datafile_new.csv' file row by row and extract the specific columns data and load it into the First Table \"music_library_by_sessions\""
   ]
  },
  {
   "cell_type": "code",
   "execution_count": 63,
   "metadata": {
    "editable": true
   },
   "outputs": [],
   "source": [
    "file = 'event_datafile_new.csv'\n",
    "\n",
    "with open(file, encoding = 'utf8') as f:\n",
    "    csvreader = csv.reader(f)\n",
    "    next(csvreader) # skip header\n",
    "    for line in csvreader:\n",
    "        query = \"\"\"\n",
    "        INSERT INTO music_library_by_sessions (\n",
    "                artist, \n",
    "                iteminsession, \n",
    "                length, \n",
    "                sessionid, \n",
    "                song\n",
    "                ) \n",
    "        \"\"\"\n",
    "        query = query + \"VALUES (%s,%s,%s,%s,%s)\"\n",
    "        session.execute(query, (line[0], int(line[3]), float(line[5]), int(line[8]), line[9] ) ) "
   ]
  },
  {
   "cell_type": "markdown",
   "metadata": {
    "editable": true
   },
   "source": [
    "#### Execute The First Query"
   ]
  },
  {
   "cell_type": "code",
   "execution_count": 64,
   "metadata": {
    "editable": true,
    "scrolled": true
   },
   "outputs": [
    {
     "name": "stdout",
     "output_type": "stream",
     "text": [
      "Faithless Music Matters (Mark Knight Dub) 495.3073\n"
     ]
    }
   ],
   "source": [
    "query1 = \"\"\"SELECT artist, length, song\n",
    "            FROM music_library_by_sessions\n",
    "            WHERE sessionid = 338 AND iteminsession = 4\n",
    "\"\"\"\n",
    "try:\n",
    "    rows = session.execute(query1)\n",
    "except Exception as e:\n",
    "    print(e)\n",
    "    \n",
    "for row in rows:\n",
    "    print(row.artist, row.song, row.length)"
   ]
  },
  {
   "cell_type": "markdown",
   "metadata": {
    "editable": true
   },
   "source": [
    "### Second Query : SELECT artist, song, firstname, lastname FROM music_library WHERE userid = 10 AND sessionid = 182\n",
    "\n",
    "#### ✱ Interpretation : \n",
    "- This query tries to get songs details such as name and artist and User's details such Name during a specific session \n",
    "\n",
    "#### ✱ Expected Output :\n",
    "- Artist's Name, Song Name , firstname and lastname of the User\n",
    "\n",
    "#### ✱ Primary Key :\n",
    "- (userid, sessionid) as a Composite Partition Key and iteminsession as a Clustering Column\n",
    "\n",
    "#### ✱ Column names :\n",
    "- artist, iteminsession, song, firstname, lastname, sessionid, userid"
   ]
  },
  {
   "cell_type": "markdown",
   "metadata": {
    "editable": true
   },
   "source": [
    "#### In the next cell We Will create the music_library_by_users_and_sessions table corresponding to the Second Query"
   ]
  },
  {
   "cell_type": "code",
   "execution_count": 65,
   "metadata": {
    "editable": true
   },
   "outputs": [],
   "source": [
    "create_table2 = \"\"\"CREATE TABLE IF NOT EXISTS music_library_by_users_and_sessions (\n",
    "        artist text,\n",
    "        iteminsession int,\n",
    "        song text,\n",
    "        firstname text,\n",
    "        lastname text,\n",
    "        sessionid int,\n",
    "        userid int, \n",
    "        \n",
    "        PRIMARY KEY ((userid, sessionid), iteminsession) \n",
    "        )\"\"\"\n",
    "try:\n",
    "    session.execute(create_table2)\n",
    "except Exception as e:\n",
    "    print(e)\n",
    "\n"
   ]
  },
  {
   "cell_type": "markdown",
   "metadata": {
    "editable": true
   },
   "source": [
    "#### In the next cell we parse the 'event_datafile_new.csv' file row by row and extract the specific columns data and load it into the Second Table \"music_library_by_users_and_sessions\""
   ]
  },
  {
   "cell_type": "code",
   "execution_count": 66,
   "metadata": {
    "editable": true
   },
   "outputs": [],
   "source": [
    "file = 'event_datafile_new.csv'\n",
    "\n",
    "with open(file, encoding = 'utf8') as f:\n",
    "    csvreader = csv.reader(f)\n",
    "    next(csvreader) # skip header\n",
    "    for line in csvreader:\n",
    "        query = \"\"\"\n",
    "        INSERT INTO music_library_by_users_and_sessions (\n",
    "                artist,\n",
    "                iteminsession,\n",
    "                song,\n",
    "                firstname, \n",
    "                lastname,  \n",
    "                sessionid,  \n",
    "                userId) \n",
    "        \"\"\"\n",
    "        query = query + \"VALUES (%s,%s,%s,%s,%s,%s,%s)\"\n",
    "        session.execute(query, (line[0], int(line[3]), line[9], line[1], line[4], int(line[8]), int(line[10])))"
   ]
  },
  {
   "cell_type": "markdown",
   "metadata": {
    "editable": true
   },
   "source": [
    "#### Execute The Second Query"
   ]
  },
  {
   "cell_type": "code",
   "execution_count": 67,
   "metadata": {
    "editable": true
   },
   "outputs": [
    {
     "name": "stdout",
     "output_type": "stream",
     "text": [
      "Down To The Bone Keep On Keepin' On Sylvie Cruz\n",
      "Three Drives Greece 2000 Sylvie Cruz\n",
      "Sebastien Tellier Kilometer Sylvie Cruz\n",
      "Lonnie Gordon Catch You Baby (Steve Pitron & Max Sanna Radio Edit) Sylvie Cruz\n"
     ]
    }
   ],
   "source": [
    "query2 = \"\"\"SELECT artist, song, firstname, lastname\n",
    "            FROM music_library_by_users_and_sessions\n",
    "            WHERE userid = 10 AND sessionid = 182\n",
    "\n",
    "\"\"\"\n",
    "try:\n",
    "    rows = session.execute(query2)\n",
    "except Exception as e:\n",
    "    print(e)\n",
    "    \n",
    "for row in rows:\n",
    "    print(row.artist, row.song, row.firstname, row.lastname)"
   ]
  },
  {
   "cell_type": "markdown",
   "metadata": {
    "editable": true
   },
   "source": [
    "### Third Query : SELECT firstname, lastname FROM music_library WHERE song = 'All Hands Against His Own'\n",
    "\n",
    "#### ✱ Interpretation : \n",
    "- This query tries to get all the users (name and last name) who have listened to a specific song\n",
    "\n",
    "#### ✱ Expected Output :\n",
    "- firstname and lastname of the User Who have listened to a song\n",
    "\n",
    "#### ✱ Primary Key :\n",
    "- (song, userid) Composite Partition Key to make Primary Keys Unique\n",
    "\n",
    "#### ✱ Column names :\n",
    "- firstname, lastname, song, userid"
   ]
  },
  {
   "cell_type": "markdown",
   "metadata": {
    "editable": true
   },
   "source": [
    "#### In the next cell We Will create the music_library_by_songs table corresponding to the Third Query"
   ]
  },
  {
   "cell_type": "code",
   "execution_count": 68,
   "metadata": {
    "editable": true
   },
   "outputs": [],
   "source": [
    "create_table3 = \"\"\"CREATE TABLE IF NOT EXISTS music_library_by_songs (\n",
    "        firstname text, \n",
    "        lastname text,  \n",
    "        song text, \n",
    "        userid int,\n",
    "        \n",
    "        PRIMARY KEY (song, userid)\n",
    "        )\"\"\"\n",
    "try:\n",
    "    session.execute(create_table3)\n",
    "except Exception as e:\n",
    "    print(e)"
   ]
  },
  {
   "cell_type": "markdown",
   "metadata": {
    "editable": true
   },
   "source": [
    "#### In the next cell we parse the 'event_datafile_new.csv' file row by row and extract the specific columns data and load it into the Third Table \"music_library_by_songs\""
   ]
  },
  {
   "cell_type": "code",
   "execution_count": 45,
   "metadata": {
    "editable": true
   },
   "outputs": [],
   "source": [
    "file = 'event_datafile_new.csv'\n",
    "\n",
    "with open(file, encoding = 'utf8') as f:\n",
    "    csvreader = csv.reader(f)\n",
    "    next(csvreader) # skip header\n",
    "    for line in csvreader:\n",
    "        query = \"\"\"\n",
    "        INSERT INTO music_library_by_songs ( \n",
    "                firstname, \n",
    "                lastname, \n",
    "                song, \n",
    "                userId) \n",
    "        \"\"\"\n",
    "        query = query + \"VALUES (%s,%s,%s,%s)\"\n",
    "        session.execute(query, (line[1], line[4], line[9], int(line[10])))"
   ]
  },
  {
   "cell_type": "markdown",
   "metadata": {
    "editable": true
   },
   "source": [
    "#### Execute The Third Query"
   ]
  },
  {
   "cell_type": "code",
   "execution_count": 46,
   "metadata": {
    "editable": true
   },
   "outputs": [
    {
     "name": "stdout",
     "output_type": "stream",
     "text": [
      "Jacqueline Lynch\n",
      "Tegan Levine\n",
      "Sara Johnson\n"
     ]
    }
   ],
   "source": [
    "query3 = \"\"\"SELECT firstname, lastname\n",
    "            FROM music_library_by_songs\n",
    "            WHERE song = 'All Hands Against His Own'\n",
    "\"\"\"\n",
    "try:\n",
    "    rows = session.execute(query3)\n",
    "except Exception as e:\n",
    "    print(e)\n",
    "    \n",
    "for row in rows:\n",
    "    print(row.firstname, row.lastname)"
   ]
  },
  {
   "cell_type": "markdown",
   "metadata": {
    "editable": true
   },
   "source": [
    "### Drop the Three Created tables From the Keyspace"
   ]
  },
  {
   "cell_type": "code",
   "execution_count": 48,
   "metadata": {
    "editable": true
   },
   "outputs": [],
   "source": [
    "drop_table1 = \"DROP TABLE IF EXISTS music_library_by_sessions\"\n",
    "try:\n",
    "    session.execute(drop_table1)\n",
    "except Exception as e:\n",
    "    print(e)\n",
    "    \n",
    "    \n",
    "drop_table2 = \"DROP TABLE IF EXISTS music_library_by_users_and_sessions\"\n",
    "try:\n",
    "    session.execute(drop_table2)\n",
    "except Exception as e:\n",
    "    print(e)\n",
    "\n",
    "\n",
    "drop_table3 = \"DROP TABLE IF EXISTS music_library_by_songs\"\n",
    "try:\n",
    "    session.execute(drop_table3)\n",
    "except Exception as e:\n",
    "    print(e)"
   ]
  },
  {
   "cell_type": "markdown",
   "metadata": {
    "editable": true
   },
   "source": [
    "### Close the session and cluster connection¶"
   ]
  },
  {
   "cell_type": "code",
   "execution_count": 49,
   "metadata": {
    "editable": true
   },
   "outputs": [],
   "source": [
    "session.shutdown()\n",
    "cluster.shutdown()"
   ]
  },
  {
   "cell_type": "code",
   "execution_count": null,
   "metadata": {
    "editable": true
   },
   "outputs": [],
   "source": []
  }
 ],
 "metadata": {
  "kernelspec": {
   "display_name": "Python 3",
   "language": "python",
   "name": "python3"
  },
  "language_info": {
   "codemirror_mode": {
    "name": "ipython",
    "version": 3
   },
   "file_extension": ".py",
   "mimetype": "text/x-python",
   "name": "python",
   "nbconvert_exporter": "python",
   "pygments_lexer": "ipython3",
   "version": "3.6.3"
  }
 },
 "nbformat": 4,
 "nbformat_minor": 4
}
